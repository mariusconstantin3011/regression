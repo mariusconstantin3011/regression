{
  "nbformat": 4,
  "nbformat_minor": 0,
  "metadata": {
    "colab": {
      "provenance": [],
      "authorship_tag": "ABX9TyNFD2l96uDbxHONpAOM1+9x",
      "include_colab_link": true
    },
    "kernelspec": {
      "name": "python3",
      "display_name": "Python 3"
    },
    "language_info": {
      "name": "python"
    }
  },
  "cells": [
    {
      "cell_type": "markdown",
      "metadata": {
        "id": "view-in-github",
        "colab_type": "text"
      },
      "source": [
        "<a href=\"https://colab.research.google.com/github/mariusconstantin3011/regression/blob/main/Regression_Test_v1.ipynb\" target=\"_parent\"><img src=\"https://colab.research.google.com/assets/colab-badge.svg\" alt=\"Open In Colab\"/></a>"
      ]
    },
    {
      "cell_type": "code",
      "execution_count": null,
      "metadata": {
        "id": "6mog5vsQ7smi"
      },
      "outputs": [],
      "source": [
        "# compute the distribution of the test statistic for normality"
      ]
    },
    {
      "cell_type": "code",
      "source": [
        "# packages\n",
        "\n",
        "import numpy as np\n",
        "import matplotlib.pyplot as plt\n",
        "from scipy.stats import norm"
      ],
      "metadata": {
        "id": "DajsPofv7w3H"
      },
      "execution_count": null,
      "outputs": []
    },
    {
      "cell_type": "code",
      "source": [
        "# confirm that the formula is correct\n",
        "\n",
        "deg_freedom = 10\n",
        "\n",
        "v = np.random.normal(size = deg_freedom)\n",
        "v = np.sort(v)\n",
        "\n",
        "w = [norm.ppf((x - 0.5) / deg_freedom) for x in range(1, deg_freedom+1, 1)]\n",
        "w = np.array(w)\n",
        "\n",
        "dot           = np.dot(w, v)\n",
        "sum_w_squared = np.sum(w**2)\n",
        "coeff         = dot / sum_w_squared\n",
        "var_v         = np.var(v)\n",
        "mse           = np.mean((v - coeff * w)**2)\n",
        "r_squared     = 1 - mse/var_v\n",
        "\n",
        "# now compute the r squared according to the formula\n",
        "sum_v         = np.sum(v)\n",
        "sum_v_squared = np.sum(v**2)\n",
        "\n",
        "top           = dot**2 - sum_v**2 / deg_freedom * sum_w_squared\n",
        "bottom        = sum_w_squared * sum_v_squared - sum_v**2/deg_freedom * sum_w_squared\n",
        "\n",
        "print(r_squared, top / bottom)\n",
        "# fig = plt.figure(figsize = (8, 6))\n",
        "# plt.scatter(w, v, s = 5)\n",
        "# plt.show()"
      ],
      "metadata": {
        "id": "-58iMUl2Bk5D"
      },
      "execution_count": null,
      "outputs": []
    },
    {
      "cell_type": "code",
      "source": [
        "def get_r_squared(nr_obs, w):\n",
        "  \"\"\"\n",
        "  Draws V = a vector of iid normals of size nr_obs\n",
        "  Draws W = a vector of invcdf( (i - 0.5)/n ) for i = 1, 2, ..., n\n",
        "  Sorts V, then regressed V on W and returns the r squared\n",
        "  \"\"\"\n",
        "  v = np.random.normal(size = nr_obs)\n",
        "  v = np.sort(v)\n",
        "  # w = [norm.ppf((x - 0.5) / nr_obs) for x in range(1, nr_obs+1, 1)]\n",
        "  # w = np.array(w)\n",
        "\n",
        "  dot           = np.dot(w, v)\n",
        "  sum_w_squared = np.sum(w**2)\n",
        "  sum_v         = np.sum(v)\n",
        "  sum_v_squared = np.sum(v**2)\n",
        "  top           = dot**2 - sum_v**2 / nr_obs * sum_w_squared\n",
        "  bottom        = sum_w_squared * sum_v_squared - sum_v**2/nr_obs * sum_w_squared\n",
        "  return top/bottom"
      ],
      "metadata": {
        "id": "4_bLaBWGBliA"
      },
      "execution_count": null,
      "outputs": []
    },
    {
      "cell_type": "code",
      "source": [
        "# Compute w values\n",
        "# w_10      = np.array([norm.ppf((x - 0.5) / 10) for x in range(1, 10+1, 1)])\n",
        "# w_100     = np.array([norm.ppf((x - 0.5) / 100) for x in range(1, 100+1, 1)])\n",
        "# w_1000    = np.array([norm.ppf((x - 0.5) / 1000) for x in range(1, 1000+1, 1)])\n",
        "# w_10000   = np.array([norm.ppf((x - 0.5) / 10000) for x in range(1, 10000+1, 1)])"
      ],
      "metadata": {
        "id": "xhEA32UkBnZ0"
      },
      "execution_count": null,
      "outputs": []
    },
    {
      "cell_type": "code",
      "source": [
        "# compute more w values\n",
        "min_exp = 3\n",
        "max_exp = 14\n",
        "w_powers_of_2 =  [np.array([norm.ppf((x - 0.5) / 2**n) for x in range(1, 2**n+1, 1)]) for n in range(min_exp, max_exp+1, 1)]"
      ],
      "metadata": {
        "id": "ZNERsAm3BpEk"
      },
      "execution_count": null,
      "outputs": []
    },
    {
      "cell_type": "code",
      "source": [
        "# Run simulations for powers of 2\n",
        "nr_simulations     = 1000000\n",
        "pct_5_idx          = int(5/100 * nr_simulations) - 1\n",
        "pct_1_idx          = int(1/100 * nr_simulations) - 1\n",
        "pct_01_idx         = int(1/1000 * nr_simulations) - 1\n",
        "list_pct_5         = []\n",
        "list_pct_1         = []\n",
        "list_pct_01        = []\n",
        "list_deg_freedom   = []\n",
        "stat_values_dict   = {}\n",
        "for exp, local_w in zip(list(range(min_exp, max_exp+1, 1)), w_powers_of_2):\n",
        "  local_nr_obs      = 2**exp\n",
        "  # print(local_nr_obs)\n",
        "  local_stat_values = [get_r_squared(local_nr_obs, local_w) for x in range(nr_simulations)]\n",
        "  local_stat_values = np.sort(local_stat_values)\n",
        "  local_pct_5       = local_stat_values[pct_5_idx]\n",
        "  local_pct_1       = local_stat_values[pct_1_idx]\n",
        "  local_pct_01      = local_stat_values[pct_01_idx]\n",
        "\n",
        "  # append values and print\n",
        "  stat_values_dict[local_nr_obs] = local_stat_values\n",
        "  list_deg_freedom.append(local_nr_obs)\n",
        "  list_pct_5.append(local_pct_5)\n",
        "  list_pct_1.append(local_pct_1)\n",
        "  list_pct_01.append(local_pct_01)\n",
        "  print(\"nr obs:\", list_deg_freedom)\n",
        "  print(\"5 percentile:\", list_pct_5)\n",
        "  print(\"1 percentile:\", list_pct_1)\n",
        "  print(\"0.1 percentile:\", list_pct_01)\n",
        "  print(\"---\")\n",
        "\n"
      ],
      "metadata": {
        "colab": {
          "base_uri": "https://localhost:8080/"
        },
        "id": "cYQaWJNjBtR3",
        "outputId": "4c906828-2817-407f-f847-0421d81746d1"
      },
      "execution_count": null,
      "outputs": [
        {
          "output_type": "stream",
          "name": "stdout",
          "text": [
            "nr obs: [8]\n",
            "5 percentile: [0.11747638611552196]\n",
            "1 percentile: [-0.8282336408729805]\n",
            "0.1 percentile: [-3.2883671487519734]\n",
            "---\n",
            "nr obs: [8, 16]\n",
            "5 percentile: [0.11747638611552196, 0.6394161448953418]\n",
            "1 percentile: [-0.8282336408729805, 0.36426070464555627]\n",
            "0.1 percentile: [-3.2883671487519734, -0.15861517195058136]\n",
            "---\n",
            "nr obs: [8, 16, 32]\n",
            "5 percentile: [0.11747638611552196, 0.6394161448953418, 0.8302245448992396]\n",
            "1 percentile: [-0.8282336408729805, 0.36426070464555627, 0.7224662466243952]\n",
            "0.1 percentile: [-3.2883671487519734, -0.15861517195058136, 0.5395573982203576]\n",
            "---\n",
            "nr obs: [8, 16, 32, 64]\n",
            "5 percentile: [0.11747638611552196, 0.6394161448953418, 0.8302245448992396, 0.9156537469728884]\n",
            "1 percentile: [-0.8282336408729805, 0.36426070464555627, 0.7224662466243952, 0.8674248849652882]\n",
            "0.1 percentile: [-3.2883671487519734, -0.15861517195058136, 0.5395573982203576, 0.7905949870512214]\n",
            "---\n",
            "nr obs: [8, 16, 32, 64, 128]\n",
            "5 percentile: [0.11747638611552196, 0.6394161448953418, 0.8302245448992396, 0.9156537469728884, 0.9574319893871399]\n",
            "1 percentile: [-0.8282336408729805, 0.36426070464555627, 0.7224662466243952, 0.8674248849652882, 0.9347824113328879]\n",
            "0.1 percentile: [-3.2883671487519734, -0.15861517195058136, 0.5395573982203576, 0.7905949870512214, 0.8987030651818029]\n",
            "---\n",
            "nr obs: [8, 16, 32, 64, 128, 256]\n",
            "5 percentile: [0.11747638611552196, 0.6394161448953418, 0.8302245448992396, 0.9156537469728884, 0.9574319893871399, 0.9783686678736622]\n",
            "1 percentile: [-0.8282336408729805, 0.36426070464555627, 0.7224662466243952, 0.8674248849652882, 0.9347824113328879, 0.967299834624583]\n",
            "0.1 percentile: [-3.2883671487519734, -0.15861517195058136, 0.5395573982203576, 0.7905949870512214, 0.8987030651818029, 0.9499556162718502]\n",
            "---\n",
            "nr obs: [8, 16, 32, 64, 128, 256, 512]\n",
            "5 percentile: [0.11747638611552196, 0.6394161448953418, 0.8302245448992396, 0.9156537469728884, 0.9574319893871399, 0.9783686678736622, 0.9889600980673751]\n",
            "1 percentile: [-0.8282336408729805, 0.36426070464555627, 0.7224662466243952, 0.8674248849652882, 0.9347824113328879, 0.967299834624583, 0.9834668041750121]\n",
            "0.1 percentile: [-3.2883671487519734, -0.15861517195058136, 0.5395573982203576, 0.7905949870512214, 0.8987030651818029, 0.9499556162718502, 0.9750390680305682]\n",
            "---\n",
            "nr obs: [8, 16, 32, 64, 128, 256, 512, 1024]\n",
            "5 percentile: [0.11747638611552196, 0.6394161448953418, 0.8302245448992396, 0.9156537469728884, 0.9574319893871399, 0.9783686678736622, 0.9889600980673751, 0.9943904267188346]\n",
            "1 percentile: [-0.8282336408729805, 0.36426070464555627, 0.7224662466243952, 0.8674248849652882, 0.9347824113328879, 0.967299834624583, 0.9834668041750121, 0.991697968179794]\n",
            "0.1 percentile: [-3.2883671487519734, -0.15861517195058136, 0.5395573982203576, 0.7905949870512214, 0.8987030651818029, 0.9499556162718502, 0.9750390680305682, 0.9876639886415626]\n",
            "---\n",
            "nr obs: [8, 16, 32, 64, 128, 256, 512, 1024, 2048]\n",
            "5 percentile: [0.11747638611552196, 0.6394161448953418, 0.8302245448992396, 0.9156537469728884, 0.9574319893871399, 0.9783686678736622, 0.9889600980673751, 0.9943904267188346, 0.9971425310101646]\n",
            "1 percentile: [-0.8282336408729805, 0.36426070464555627, 0.7224662466243952, 0.8674248849652882, 0.9347824113328879, 0.967299834624583, 0.9834668041750121, 0.991697968179794, 0.9957883959722349]\n",
            "0.1 percentile: [-3.2883671487519734, -0.15861517195058136, 0.5395573982203576, 0.7905949870512214, 0.8987030651818029, 0.9499556162718502, 0.9750390680305682, 0.9876639886415626, 0.9937371229539804]\n",
            "---\n",
            "nr obs: [8, 16, 32, 64, 128, 256, 512, 1024, 2048, 4096]\n",
            "5 percentile: [0.11747638611552196, 0.6394161448953418, 0.8302245448992396, 0.9156537469728884, 0.9574319893871399, 0.9783686678736622, 0.9889600980673751, 0.9943904267188346, 0.9971425310101646, 0.9985463071562852]\n",
            "1 percentile: [-0.8282336408729805, 0.36426070464555627, 0.7224662466243952, 0.8674248849652882, 0.9347824113328879, 0.967299834624583, 0.9834668041750121, 0.991697968179794, 0.9957883959722349, 0.997873421672287]\n",
            "0.1 percentile: [-3.2883671487519734, -0.15861517195058136, 0.5395573982203576, 0.7905949870512214, 0.8987030651818029, 0.9499556162718502, 0.9750390680305682, 0.9876639886415626, 0.9937371229539804, 0.9968429659393401]\n",
            "---\n",
            "nr obs: [8, 16, 32, 64, 128, 256, 512, 1024, 2048, 4096, 8192]\n",
            "5 percentile: [0.11747638611552196, 0.6394161448953418, 0.8302245448992396, 0.9156537469728884, 0.9574319893871399, 0.9783686678736622, 0.9889600980673751, 0.9943904267188346, 0.9971425310101646, 0.9985463071562852, 0.9992632380411668]\n",
            "1 percentile: [-0.8282336408729805, 0.36426070464555627, 0.7224662466243952, 0.8674248849652882, 0.9347824113328879, 0.967299834624583, 0.9834668041750121, 0.991697968179794, 0.9957883959722349, 0.997873421672287, 0.9989231299144314]\n",
            "0.1 percentile: [-3.2883671487519734, -0.15861517195058136, 0.5395573982203576, 0.7905949870512214, 0.8987030651818029, 0.9499556162718502, 0.9750390680305682, 0.9876639886415626, 0.9937371229539804, 0.9968429659393401, 0.998412456193804]\n",
            "---\n"
          ]
        }
      ]
    },
    {
      "cell_type": "code",
      "source": [
        "# print p-values for the table\n",
        "\n",
        "# 5 percentile\n",
        "ln_list = [np.log(1 - x) for x in list_pct_5]\n",
        "output_str = \"\"\n",
        "for local_val in ln_list:\n",
        "  val_str = \" & \" + str(np.round(local_val, 2))\n",
        "  output_str += val_str\n",
        "print(output_str)\n",
        "\n",
        "# 1 percentile\n",
        "ln_list = [np.log(1 - x) for x in list_pct_1]\n",
        "output_str = \"\"\n",
        "for local_val in ln_list:\n",
        "  val_str = \" & \" + str(np.round(local_val, 2))\n",
        "  output_str += val_str\n",
        "print(output_str)\n",
        "\n",
        "# 0.1 percentile\n",
        "ln_list = [np.log(1 - x) for x in list_pct_01]\n",
        "output_str = \"\"\n",
        "for local_val in ln_list:\n",
        "  val_str = \" & \" + str(np.round(local_val, 2))\n",
        "  output_str += val_str\n",
        "print(output_str)\n"
      ],
      "metadata": {
        "id": "_dqGWT7pBusW"
      },
      "execution_count": null,
      "outputs": []
    },
    {
      "cell_type": "code",
      "source": [
        "# plots\n",
        "plt.rcParams.update({'font.size': 10})\n",
        "nr_bins = 1000\n",
        "\n",
        "deg_freedom = 8\n",
        "\n",
        "stat_values = stat_values_dict[deg_freedom]\n",
        "\n",
        "fig = plt.figure(figsize = (15, 6))\n",
        "plt.subplot(1, 2, 1)\n",
        "plt.hist(stat_values, density = False, bins = nr_bins, alpha = 0.8)\n",
        "plt.title('r squared')\n",
        "\n",
        "plt.subplot(1, 2, 2)\n",
        "plt.hist(np.log(1 - stat_values), density = False, bins = nr_bins, alpha = 0.8)\n",
        "plt.title('ln(1 - r squared)')\n",
        "\n",
        "plt.suptitle(\"Histogram from 1 million simulations. n-d = \" + str(deg_freedom))\n",
        "plt.show()\n",
        "\n"
      ],
      "metadata": {
        "id": "PgLmagpXBwtO"
      },
      "execution_count": null,
      "outputs": []
    },
    {
      "cell_type": "code",
      "source": [
        "plt.rcParams.update({'font.size': 10})\n",
        "nr_bins = 1000\n",
        "\n",
        "deg_freedom = 128\n",
        "\n",
        "stat_values = stat_values_dict[deg_freedom]\n",
        "\n",
        "fig = plt.figure(figsize = (15, 6))\n",
        "plt.subplot(1, 2, 1)\n",
        "plt.hist(stat_values, density = False, bins = nr_bins, alpha = 0.8)\n",
        "plt.title('r squared')\n",
        "\n",
        "plt.subplot(1, 2, 2)\n",
        "plt.hist(np.log(1 - stat_values), density = False, bins = nr_bins, alpha = 0.8)\n",
        "plt.title('ln(1 - r squared)')\n",
        "\n",
        "plt.suptitle(\"Histogram from 1 million simulations. n-d = \" + str(deg_freedom))\n",
        "plt.show()\n"
      ],
      "metadata": {
        "id": "jp2fDZD4By_G"
      },
      "execution_count": null,
      "outputs": []
    },
    {
      "cell_type": "code",
      "source": [
        "plt.rcParams.update({'font.size': 10})\n",
        "nr_bins = 1000\n",
        "\n",
        "deg_freedom = 1024\n",
        "\n",
        "stat_values = stat_values_dict[deg_freedom]\n",
        "\n",
        "fig = plt.figure(figsize = (15, 6))\n",
        "plt.subplot(1, 2, 1)\n",
        "plt.hist(stat_values, density = False, bins = nr_bins, alpha = 0.8)\n",
        "plt.title('r squared')\n",
        "\n",
        "plt.subplot(1, 2, 2)\n",
        "plt.hist(np.log(1 - stat_values), density = False, bins = nr_bins, alpha = 0.8)\n",
        "plt.title('ln(1 - r squared)')\n",
        "\n",
        "plt.suptitle(\"Histogram from 1 million simulations. n-d = \" + str(deg_freedom))\n",
        "plt.show()\n"
      ],
      "metadata": {
        "id": "dH3EHBSyB5xg"
      },
      "execution_count": null,
      "outputs": []
    },
    {
      "cell_type": "code",
      "source": [
        "plt.rcParams.update({'font.size': 10})\n",
        "nr_bins = 1000\n",
        "\n",
        "deg_freedom = 16384\n",
        "\n",
        "stat_values = stat_values_dict[deg_freedom]\n",
        "\n",
        "fig = plt.figure(figsize = (15, 6))\n",
        "plt.subplot(1, 2, 1)\n",
        "plt.hist(stat_values, density = False, bins = nr_bins, alpha = 0.8)\n",
        "plt.title('r squared')\n",
        "\n",
        "plt.subplot(1, 2, 2)\n",
        "plt.hist(np.log(1 - stat_values), density = False, bins = nr_bins, alpha = 0.8)\n",
        "plt.title('ln(1 - r squared)')\n",
        "\n",
        "plt.suptitle(\"Histogram from 1 million simulations. n-d = \" + str(deg_freedom))\n",
        "plt.show()\n"
      ],
      "metadata": {
        "id": "clxJNoc2B7LR"
      },
      "execution_count": null,
      "outputs": []
    },
    {
      "cell_type": "code",
      "source": [
        "results ={}\n",
        "err_margin = 0.001"
      ],
      "metadata": {
        "id": "xRwzj0IJB8wy"
      },
      "execution_count": null,
      "outputs": []
    },
    {
      "cell_type": "code",
      "source": [
        "# obtain samples which are right at the margin, at the 0.1-th percentile\n",
        "deg_freedom   = 8\n",
        "w             = w_powers_of_2[0]\n",
        "r_threshold   = -3.200553517420223\n",
        "\n",
        "ln_val        = np.log(1 - r_threshold)\n",
        "\n",
        "cur_val   = ln_val + 2 * err_margin\n",
        "nr_trials = 0\n",
        "while np.abs(cur_val -ln_val) > err_margin:\n",
        "  nr_trials +=1\n",
        "  # draw normals and obtain R squared\n",
        "  v = np.random.normal(size = deg_freedom)\n",
        "  v = np.sort(v)\n",
        "  # w = [norm.ppf((x - 0.5) / nr_obs) for x in range(1, nr_obs+1, 1)]\n",
        "  # w = np.array(w)\n",
        "\n",
        "  dot           = np.dot(w, v)\n",
        "  sum_w_squared = np.sum(w**2)\n",
        "  sum_v         = np.sum(v)\n",
        "  sum_v_squared = np.sum(v**2)\n",
        "  top           = dot**2 - sum_v**2 / deg_freedom * sum_w_squared\n",
        "  bottom        = sum_w_squared * sum_v_squared - sum_v**2/deg_freedom * sum_w_squared\n",
        "\n",
        "  r_sq          = top/bottom\n",
        "  cur_val       = np.log(1 - r_sq)\n",
        "  #print(nr_trials, r_sq, cur_val)\n",
        "\n",
        "alpha = dot / sum_w_squared\n",
        "results[deg_freedom] = [w, v, alpha, r_sq, cur_val]"
      ],
      "metadata": {
        "id": "gxRBnnArB-ce"
      },
      "execution_count": null,
      "outputs": []
    },
    {
      "cell_type": "code",
      "source": [
        "# obtain samples which are right at the margin, at the 0.1-th percentile\n",
        "deg_freedom   = 128\n",
        "w             = w_powers_of_2[4]\n",
        "r_threshold   = 0.8995108929438392\n",
        "\n",
        "ln_val        = np.log(1 - r_threshold)\n",
        "\n",
        "cur_val   = ln_val + 2 * err_margin\n",
        "nr_trials = 0\n",
        "while np.abs(cur_val -ln_val) > err_margin:\n",
        "  nr_trials +=1\n",
        "  # draw normals and obtain R squared\n",
        "  v = np.random.normal(size = deg_freedom)\n",
        "  v = np.sort(v)\n",
        "  # w = [norm.ppf((x - 0.5) / nr_obs) for x in range(1, nr_obs+1, 1)]\n",
        "  # w = np.array(w)\n",
        "\n",
        "  dot           = np.dot(w, v)\n",
        "  sum_w_squared = np.sum(w**2)\n",
        "  sum_v         = np.sum(v)\n",
        "  sum_v_squared = np.sum(v**2)\n",
        "  top           = dot**2 - sum_v**2 / deg_freedom * sum_w_squared\n",
        "  bottom        = sum_w_squared * sum_v_squared - sum_v**2/deg_freedom * sum_w_squared\n",
        "\n",
        "  r_sq          = top/bottom\n",
        "  cur_val       = np.log(1 - r_sq)\n",
        "  #print(nr_trials, r_sq, cur_val)\n",
        "\n",
        "alpha = dot / sum_w_squared\n",
        "results[deg_freedom] = [w, v, alpha, r_sq, cur_val]"
      ],
      "metadata": {
        "id": "P55xU37mB_26"
      },
      "execution_count": null,
      "outputs": []
    },
    {
      "cell_type": "code",
      "source": [
        "# obtain samples which are right at the margin, at the 0.1-th percentile\n",
        "deg_freedom   = 1024\n",
        "w             = w_powers_of_2[7]\n",
        "r_threshold   = 0.9875511565700805\n",
        "\n",
        "ln_val        = np.log(1 - r_threshold)\n",
        "\n",
        "cur_val   = ln_val + 2 * err_margin\n",
        "nr_trials = 0\n",
        "while np.abs(cur_val -ln_val) > err_margin:\n",
        "  nr_trials +=1\n",
        "  # draw normals and obtain R squared\n",
        "  v = np.random.normal(size = deg_freedom)\n",
        "  v = np.sort(v)\n",
        "  # w = [norm.ppf((x - 0.5) / nr_obs) for x in range(1, nr_obs+1, 1)]\n",
        "  # w = np.array(w)\n",
        "\n",
        "  dot           = np.dot(w, v)\n",
        "  sum_w_squared = np.sum(w**2)\n",
        "  sum_v         = np.sum(v)\n",
        "  sum_v_squared = np.sum(v**2)\n",
        "  top           = dot**2 - sum_v**2 / deg_freedom * sum_w_squared\n",
        "  bottom        = sum_w_squared * sum_v_squared - sum_v**2/deg_freedom * sum_w_squared\n",
        "\n",
        "  r_sq          = top/bottom\n",
        "  cur_val       = np.log(1 - r_sq)\n",
        "  #print(nr_trials, r_sq, cur_val)\n",
        "\n",
        "alpha = dot / sum_w_squared\n",
        "results[deg_freedom] = [w, v, alpha, r_sq, cur_val]"
      ],
      "metadata": {
        "id": "xoPWOZUXCBX1"
      },
      "execution_count": null,
      "outputs": []
    },
    {
      "cell_type": "code",
      "source": [
        "# obtain samples which are right at the margin, at the 0.1-th percentile\n",
        "deg_freedom   = 16384\n",
        "w             = w_powers_of_2[11]\n",
        "r_threshold   = 0.9992055706344912\n",
        "\n",
        "ln_val        = np.log(1 - r_threshold)\n",
        "\n",
        "cur_val   = ln_val + 2 * err_margin\n",
        "nr_trials = 0\n",
        "while np.abs(cur_val -ln_val) > err_margin:\n",
        "  nr_trials +=1\n",
        "  # draw normals and obtain R squared\n",
        "  v = np.random.normal(size = deg_freedom)\n",
        "  v = np.sort(v)\n",
        "  # w = [norm.ppf((x - 0.5) / nr_obs) for x in range(1, nr_obs+1, 1)]\n",
        "  # w = np.array(w)\n",
        "\n",
        "  dot           = np.dot(w, v)\n",
        "  sum_w_squared = np.sum(w**2)\n",
        "  sum_v         = np.sum(v)\n",
        "  sum_v_squared = np.sum(v**2)\n",
        "  top           = dot**2 - sum_v**2 / deg_freedom * sum_w_squared\n",
        "  bottom        = sum_w_squared * sum_v_squared - sum_v**2/deg_freedom * sum_w_squared\n",
        "\n",
        "  r_sq          = top/bottom\n",
        "  cur_val       = np.log(1 - r_sq)\n",
        "  #print(nr_trials, r_sq, cur_val)\n",
        "\n",
        "alpha = dot / sum_w_squared\n",
        "results[deg_freedom] = [w, v, alpha, r_sq, cur_val]"
      ],
      "metadata": {
        "id": "94UfPFwxCC-_"
      },
      "execution_count": null,
      "outputs": []
    },
    {
      "cell_type": "code",
      "source": [
        "# plot the graph: n-d = 8 and 128\n",
        "plt.rcParams.update({'font.size': 14})\n",
        "fig = plt.figure(figsize = (15, 6))\n",
        "plt.subplot(1, 2, 1)\n",
        "deg_freedom = 8\n",
        "w, v, alpha, r_sq, cur_val = results[deg_freedom]\n",
        "plt.scatter(w, v)\n",
        "plt.plot(w, alpha * w, color = \"black\", alpha = 0.5)\n",
        "plt.xlabel(\"Values of the normal distribution at fixed percentiles\")\n",
        "plt.ylabel(\"Values of the sample\")\n",
        "plt.title(\"n-d =\" + str(deg_freedom) + \"\\n r squared =\" + str(np.round(r_sq, 2)) + \\\n",
        "          \", ln(1 - r squared) =\" + str(np.round(cur_val, 2)) )\n",
        "\n",
        "plt.subplot(1, 2, 2)\n",
        "deg_freedom = 128\n",
        "w, v, alpha, r_sq, cur_val = results[deg_freedom]\n",
        "plt.scatter(w, v)\n",
        "plt.plot(w, alpha * w, color = \"black\", alpha = 0.5)\n",
        "plt.xlabel(\"Values of the normal distribution at fixed percentiles\")\n",
        "plt.ylabel(\"Values of the sample\")\n",
        "plt.title(\"n-d =\" + str(deg_freedom) + \"\\n r squared =\" + str(np.round(r_sq, 2)) + \\\n",
        "          \", ln(1 - r squared) =\" + str(np.round(cur_val, 2)) )\n",
        "\n",
        "plt.show()"
      ],
      "metadata": {
        "id": "TE9O_DJUCFOf"
      },
      "execution_count": null,
      "outputs": []
    },
    {
      "cell_type": "code",
      "source": [
        "# plot the graph: n-d = 1024 and 16384\n",
        "fig = plt.figure(figsize = (15, 6))\n",
        "plt.subplot(1, 2, 1)\n",
        "deg_freedom = 1024\n",
        "w, v, alpha, r_sq, cur_val = results[deg_freedom]\n",
        "plt.scatter(w, v, s = 1)\n",
        "plt.plot(w, alpha * w,linewidth =1, color = \"black\", alpha = 0.5)\n",
        "plt.xlabel(\"Values of the normal distribution at fixed percentiles\")\n",
        "plt.ylabel(\"Values of the sample\")\n",
        "plt.title(\"n-d =\" + str(deg_freedom) + \"\\n r squared =\" + str(np.round(r_sq, 3)) + \\\n",
        "          \", ln(1 - r squared) =\" + str(np.round(cur_val, 2)) )\n",
        "\n",
        "plt.subplot(1, 2, 2)\n",
        "deg_freedom = 16384\n",
        "w, v, alpha, r_sq, cur_val = results[deg_freedom]\n",
        "plt.scatter(w, v, s = 1)\n",
        "plt.plot(w, alpha * w,linewidth =1, color = \"black\", alpha = 0.5)\n",
        "plt.xlabel(\"Values of the normal distribution at fixed percentiles\")\n",
        "plt.ylabel(\"Values of the sample\")\n",
        "plt.title(\"n-d =\" + str(deg_freedom) + \"\\n r squared =\" + str(np.round(r_sq, 5)) + \\\n",
        "          \", ln(1 - r squared) =\" + str(np.round(cur_val, 2)) )\n",
        "\n",
        "plt.show()"
      ],
      "metadata": {
        "id": "_FliuDEbCH0L"
      },
      "execution_count": null,
      "outputs": []
    },
    {
      "cell_type": "code",
      "source": [],
      "metadata": {
        "id": "I3xi1hbCCJQo"
      },
      "execution_count": null,
      "outputs": []
    }
  ]
}